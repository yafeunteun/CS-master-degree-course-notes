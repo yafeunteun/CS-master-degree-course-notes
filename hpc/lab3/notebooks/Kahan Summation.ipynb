{
 "cells": [
  {
   "cell_type": "markdown",
   "metadata": {},
   "source": [
    "# Kahan Summation"
   ]
  },
  {
   "cell_type": "markdown",
   "metadata": {},
   "source": [
    "The goal of this notebook is to propose and study an implementation of the Kahan summation. We started by a trivial example demonstrated the difference between the standard summation and our Kahan summation focusing on how this difference varies with the number of elements added. Then we study the impact of the order of the elements in the input on both summations shown the stability of the Kahan summation relatively to the standard sum as well as its accuracy. During the experiment we paid a close attention to the potential reproducibility issues hence we use a high quality pseudo random number generator from the https://en.wikipedia.org/wiki/CLHEP. "
   ]
  },
  {
   "cell_type": "markdown",
   "metadata": {},
   "source": [
    "## Kahan Summation implementation "
   ]
  },
  {
   "cell_type": "code",
   "execution_count": 175,
   "metadata": {},
   "outputs": [],
   "source": [
    "def kahan_sum(x):\n",
    "    \"\"\"Compute the sum of the elements in iterable x using Kahan summation.\"\"\"\n",
    "    \n",
    "    _sum = 0.0\n",
    "    c = 0.0\n",
    "    for idx, val in enumerate(x):\n",
    "        y = val - c\n",
    "        t = _sum + y\n",
    "        c = (t - _sum) - y\n",
    "        _sum = t\n",
    "    return _sum"
   ]
  },
  {
   "cell_type": "markdown",
   "metadata": {},
   "source": [
    "### Example"
   ]
  },
  {
   "cell_type": "code",
   "execution_count": 176,
   "metadata": {},
   "outputs": [
    {
     "data": {
      "text/plain": [
       "99.9999999999986"
      ]
     },
     "execution_count": 176,
     "metadata": {},
     "output_type": "execute_result"
    }
   ],
   "source": [
    "sum([.1 for _ in range(1000)]) "
   ]
  },
  {
   "cell_type": "code",
   "execution_count": 177,
   "metadata": {},
   "outputs": [
    {
     "data": {
      "text/plain": [
       "100.0"
      ]
     },
     "execution_count": 177,
     "metadata": {},
     "output_type": "execute_result"
    }
   ],
   "source": [
    "kahan_sum([.1 for _ in range(1000)])"
   ]
  },
  {
   "cell_type": "markdown",
   "metadata": {},
   "source": [
    "This simple example shows an improvement on the task of summing 0.1 1000 times when using the Kahan summation instead of the standard _sum_ method."
   ]
  },
  {
   "cell_type": "markdown",
   "metadata": {},
   "source": [
    "In theory, the Kahan summation is not dependent on the number of elements that we sum whereas the standard sum is, let's see if we can illustrate that.\n",
    "We are going to plot the residual error on the sum of 0.1 k times as k increases using the two different summation approach "
   ]
  },
  {
   "cell_type": "code",
   "execution_count": 178,
   "metadata": {},
   "outputs": [],
   "source": [
    "def get_sum(k, use_kahan=False, n=0.1):\n",
    "    \"\"\"Return the result of the summation of k times n using the standard or Kahan algorithm.\"\"\"\n",
    "    if use_kahan:\n",
    "        return kahan_sum([n for _ in range(k)])\n",
    "    else:\n",
    "        return sum([n for _ in range(k)])"
   ]
  },
  {
   "cell_type": "code",
   "execution_count": 109,
   "metadata": {},
   "outputs": [],
   "source": [
    "x = list(range(1000, 10000, 100)) ## input\n",
    "y = [abs((_x/10.) - get_sum(_x)) for _x in x] ## residuals using standard sum \n",
    "y_kahan = [abs((_x/10.) - get_sum(_x, use_kahan=True)) for _x in x] ## residuals using Kahan sum"
   ]
  },
  {
   "cell_type": "code",
   "execution_count": 110,
   "metadata": {},
   "outputs": [
    {
     "data": {
      "image/png": "[encoded data removed]",
      "text/plain": [
       "<Figure size 432x288 with 1 Axes>"
      ]
     },
     "metadata": {
      "needs_background": "light"
     },
     "output_type": "display_data"
    }
   ],
   "source": [
    "from mpl_toolkits.axes_grid1 import host_subplot\n",
    "import matplotlib.pyplot as plt\n",
    "\n",
    "host = host_subplot(111)\n",
    "\n",
    "par = host.twinx()\n",
    "\n",
    "host.set_xlabel(\"Input size\")\n",
    "host.set_ylabel(\"Standard sum\")\n",
    "par.set_ylabel(\"Kahan Sum\")\n",
    "\n",
    "p1, = host.plot(x, y, label=\"Standard sum\")\n",
    "p2, = par.plot(x, y_kahan, label=\"Kahan Sum\")\n",
    "\n",
    "leg = plt.legend()\n",
    "\n",
    "host.yaxis.get_label().set_color(p1.get_color())\n",
    "leg.texts[0].set_color(p1.get_color())\n",
    "\n",
    "par.yaxis.get_label().set_color(p2.get_color())\n",
    "leg.texts[1].set_color(p2.get_color())\n",
    "\n",
    "plt.show()"
   ]
  },
  {
   "cell_type": "markdown",
   "metadata": {},
   "source": [
    "As expected, the error of the standard sum increases with the size of the input whereas the Kahan summation seems to remain constant and close if not equal to zero."
   ]
  },
  {
   "cell_type": "markdown",
   "metadata": {},
   "source": [
    "## Approximate Pi"
   ]
  },
  {
   "cell_type": "markdown",
   "metadata": {},
   "source": [
    "We wrote a small C++ program that runs 100 Posix threads (each of them computing PI with a different random stream) - they return their approximations in an array which is filled in a different order from one execution to the other (depending on the termination times of threads). The file _data.txt_ contains the output of this experiment where each line corresponds to one approximation of one thread. The file contains 1000 runs of the experiment. The goal is to apply the standard summation to each run and see how it differs from the Kahan summation. We are going to plot the dispersion of the error from one execution to the other. We define the error as the difference between the true value of Pi (up to 5 decimals) and the average of the results of the 100 threads. The average being computed using the standard sum first then the Kahan sum.    "
   ]
  },
  {
   "cell_type": "code",
   "execution_count": 111,
   "metadata": {},
   "outputs": [],
   "source": [
    "import pandas as pd"
   ]
  },
  {
   "cell_type": "code",
   "execution_count": 123,
   "metadata": {},
   "outputs": [],
   "source": [
    "data = pd.read_csv(\"./data.txt\", header=None).values.flatten()"
   ]
  },
  {
   "cell_type": "code",
   "execution_count": 170,
   "metadata": {},
   "outputs": [],
   "source": [
    "y = []\n",
    "y_kahan = [] \n",
    "for i in range(100, len(data)+1, 100):\n",
    "    x = data[i-100:i]\n",
    "    y.append(abs((sum(x)/100.) - 3.14159)) \n",
    "    y_kahan.append(abs((kahan_sum(x)/100.) - 3.14159)) "
   ]
  },
  {
   "cell_type": "code",
   "execution_count": 179,
   "metadata": {},
   "outputs": [
    {
     "data": {
      "image/png": "[encoded data removed]",
      "text/plain": [
       "<Figure size 432x288 with 1 Axes>"
      ]
     },
     "metadata": {
      "needs_background": "light"
     },
     "output_type": "display_data"
    }
   ],
   "source": [
    "import seaborn as sns\n",
    "import matplotlib.pyplot as plt\n",
    "sns.distplot(y, bins=10, kde=False, rug=True);"
   ]
  },
  {
   "cell_type": "code",
   "execution_count": 180,
   "metadata": {},
   "outputs": [
    {
     "data": {
      "image/png": "[encoded data removed]",
      "text/plain": [
       "<Figure size 432x288 with 1 Axes>"
      ]
     },
     "metadata": {
      "needs_background": "light"
     },
     "output_type": "display_data"
    }
   ],
   "source": [
    "sns.distplot(y_kahan, bins=10, kde=False, rug=True);"
   ]
  },
  {
   "cell_type": "markdown",
   "metadata": {},
   "source": [
    "We observe two things here: \n",
    "1. The standard sum seems to be sensitive to the order of the values in the input whereas the Kahan summation looks stable.\n",
    "2. The Kahan summation yields a perfect approximation of Pi (up to 5 decimals) whereas the standard sum has always a non-negative residual."
   ]
  },
  {
   "cell_type": "code",
   "execution_count": null,
   "metadata": {},
   "outputs": [],
   "source": []
  }
 ],
 "metadata": {
  "kernelspec": {
   "display_name": "Python 3",
   "language": "python",
   "name": "python3"
  },
  "language_info": {
   "codemirror_mode": {
    "name": "ipython",
    "version": 3
   },
   "file_extension": ".py",
   "mimetype": "text/x-python",
   "name": "python",
   "nbconvert_exporter": "python",
   "pygments_lexer": "ipython3",
   "version": "3.6.1"
  }
 },
 "nbformat": 4,
 "nbformat_minor": 2
}
